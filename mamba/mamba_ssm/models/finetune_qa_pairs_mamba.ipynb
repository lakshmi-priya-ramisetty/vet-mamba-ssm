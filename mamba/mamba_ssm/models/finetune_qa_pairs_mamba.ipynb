{
 "cells": [
  {
   "cell_type": "code",
   "execution_count": 1,
   "metadata": {},
   "outputs": [
    {
     "name": "stderr",
     "output_type": "stream",
     "text": [
      "/scratch/vetgpt/.venv/lib/python3.10/site-packages/tqdm/auto.py:21: TqdmWarning: IProgress not found. Please update jupyter and ipywidgets. See https://ipywidgets.readthedocs.io/en/stable/user_install.html\n",
      "  from .autonotebook import tqdm as notebook_tqdm\n"
     ]
    }
   ],
   "source": [
    "from transformers import MambaConfig, MambaForCausalLM, AutoTokenizer, Trainer, TrainingArguments\n",
    "from datasets import load_dataset\n",
    "from evaluate import load\n",
    "from trl import SFTTrainer\n",
    "from peft import LoraConfig\n",
    "import numpy as np\n",
    "from transformers import logging\n",
    "logging.set_verbosity_error()"
   ]
  },
  {
   "cell_type": "code",
   "execution_count": 2,
   "metadata": {},
   "outputs": [],
   "source": [
    "checkpoint_path = '/scratch/vetgpt/vetgpt-rlp/mamba/mamba_ssm/retrain_checkpoints/checkpoint-62046'\n",
    "config_path = \"/scratch/vetgpt/vetgpt-rlp/mamba/mamba_ssm/checkpoints/checkpoint-3236/config.json\"\n",
    "\n",
    "config = MambaConfig.from_pretrained(config_path)\n",
    "tokenizer = AutoTokenizer.from_pretrained(checkpoint_path)\n",
    "model = MambaForCausalLM.from_pretrained(checkpoint_path, config=config)"
   ]
  },
  {
   "cell_type": "code",
   "execution_count": null,
   "metadata": {},
   "outputs": [],
   "source": [
    "dataset_dir = '/scratch/vetgpt/repo/MedVetGPT/qa_generate/0508_short2_nodigit/'\n",
    "\n",
    "datasets = load_dataset('json', data_files={\n",
    "    'train': dataset_dir + 'train.json',\n",
    "    'test': dataset_dir + 'test.json'\n",
    "})"
   ]
  },
  {
   "cell_type": "code",
   "execution_count": 4,
   "metadata": {},
   "outputs": [],
   "source": [
    "# Define the tokenization function\n",
    "def tokenize_function(examples):\n",
    "    inputs = [q for q in examples[\"Question\"]]\n",
    "    model_inputs = tokenizer(inputs, max_length=128, truncation=True, padding=\"max_length\")\n",
    "    model_inputs[\"labels\"] = tokenizer(examples[\"Answer\"], max_length=128, truncation=True, padding=\"max_length\")[\"input_ids\"]\n",
    "    return model_inputs\n",
    "\n",
    "# Apply tokenization to both train and test datasets\n",
    "tokenized_datasets = datasets.map(tokenize_function, batched=True)"
   ]
  },
  {
   "cell_type": "code",
   "execution_count": 6,
   "metadata": {},
   "outputs": [
    {
     "data": {
      "text/plain": [
       "558894"
      ]
     },
     "execution_count": 6,
     "metadata": {},
     "output_type": "execute_result"
    }
   ],
   "source": [
    "tokenized_datasets[\"train\"].num_rows"
   ]
  },
  {
   "cell_type": "code",
   "execution_count": null,
   "metadata": {},
   "outputs": [],
   "source": [
    "rouge_metric = load(\"rouge\")"
   ]
  },
  {
   "cell_type": "code",
   "execution_count": null,
   "metadata": {},
   "outputs": [],
   "source": [
    "def compute_metrics(eval_preds):\n",
    "    preds, labels = eval_preds\n",
    "    decoded_preds = tokenizer.batch_decode(preds, skip_special_tokens=True)\n",
    "    decoded_labels = tokenizer.batch_decode(labels, skip_special_tokens=True)\n",
    "\n",
    "    result = rouge_metric.compute(predictions=decoded_preds, references=decoded_labels)\n",
    "    result = {key: value.mid.fmeasure * 100 for key, value in result.items()}  # Scale scores by 100\n",
    "\n",
    "    result[\"avg_rouge\"] = np.mean(list(result.values()))\n",
    "    return result"
   ]
  },
  {
   "cell_type": "code",
   "execution_count": null,
   "metadata": {},
   "outputs": [],
   "source": [
    "import os\n",
    "os.environ[\"CUDA_VISIBLE_DEVICES\"] = \"0\""
   ]
  },
  {
   "cell_type": "code",
   "execution_count": null,
   "metadata": {},
   "outputs": [],
   "source": [
    "from datasets import load_dataset\n",
    "\n",
    "training_args = TrainingArguments(\n",
    "    output_dir=\"/scratch/vetgpt/vetgpt-rlp/mamba/mamba_ssm/mamba_finetune_results\",\n",
    "    num_train_epochs=3,\n",
    "    per_device_train_batch_size=4,\n",
    "    logging_dir='/scratch/vetgpt/vetgpt-rlp/mamba/mamba_ssm/mamba_finetune_results/mamba_logs',\n",
    "    logging_steps=100,\n",
    "    learning_rate=2e-3,\n",
    "    disable_tqdm=False,\n",
    "    save_steps=500, \n",
    "    save_total_limit=3      \n",
    ")\n",
    "\n",
    "lora_config =  LoraConfig(\n",
    "        r=8,\n",
    "        target_modules=[\"x_proj\", \"embeddings\", \"in_proj\", \"out_proj\"],\n",
    "        task_type=\"CAUSAL_LM\",\n",
    "        bias=\"none\"\n",
    ")\n",
    "trainer = SFTTrainer(\n",
    "    model=model,\n",
    "    tokenizer=tokenizer,\n",
    "    args=training_args,\n",
    "    peft_config=lora_config,\n",
    "    train_dataset=tokenized_datasets[\"train\"],\n",
    "    eval_dataset=tokenized_datasets[\"test\"]\n",
    ")\n"
   ]
  },
  {
   "cell_type": "code",
   "execution_count": null,
   "metadata": {},
   "outputs": [],
   "source": [
    "trainer.train()"
   ]
  },
  {
   "cell_type": "code",
   "execution_count": null,
   "metadata": {},
   "outputs": [],
   "source": [
    "eval_results = trainer.evaluate()\n",
    "\n",
    "print(eval_results)"
   ]
  },
  {
   "cell_type": "code",
   "execution_count": 15,
   "metadata": {},
   "outputs": [
    {
     "name": "stderr",
     "output_type": "stream",
     "text": [
      "Map:   0%|          | 0/62100 [00:00<?, ? examples/s]/tmp/ipykernel_401537/1489932227.py:13: FutureWarning: `torch.cuda.amp.autocast(args...)` is deprecated. Please use `torch.amp.autocast('cuda', args...)` instead.\n",
      "  with torch.no_grad(), autocast():\n",
      "Map: 100%|██████████| 62100/62100 [23:30<00:00, 44.03 examples/s]\n"
     ]
    }
   ],
   "source": [
    "import torch\n",
    "from torch.cuda.amp import autocast\n",
    "\n",
    "checkpoint_path = \"/scratch/vetgpt/vetgpt-rlp/mamba/mamba_ssm/mamba_finetune_results/checkpoint-100\"\n",
    "tokenizer = AutoTokenizer.from_pretrained(checkpoint_path)\n",
    "model = MambaForCausalLM.from_pretrained(checkpoint_path)\n",
    "model.to(\"cuda\")\n",
    "\n",
    "from datasets import load_dataset\n",
    "\n",
    "# Load the test dataset\n",
    "dataset_dir = '/scratch/vetgpt/repo/MedVetGPT/qa_generate/0508_short2_nodigit/'\n",
    "test_dataset = load_dataset('json', data_files={'test': dataset_dir + 'test.json'})['test']\n",
    "\n",
    "# Tokenize the test dataset\n",
    "def preprocess_function(examples):\n",
    "    inputs = [q for q in examples[\"Question\"]]\n",
    "    model_inputs = tokenizer(inputs, max_length=128, truncation=True, padding=\"max_length\")\n",
    "    return model_inputs\n",
    "\n",
    "tokenized_test_dataset = test_dataset.map(preprocess_function, batched=True)\n",
    "\n",
    "def generate_predictions(batch):\n",
    "    inputs = tokenizer(batch[\"Question\"], return_tensors=\"pt\", padding=True, truncation=True, max_length=128).input_ids\n",
    "    inputs = inputs.to(\"cuda\")\n",
    "    \n",
    "    with torch.no_grad(), autocast():\n",
    "        outputs = model.generate(inputs, max_new_tokens=30, num_beams=1)\n",
    "    \n",
    "    batch[\"predictions\"] = tokenizer.batch_decode(outputs, skip_special_tokens=True)\n",
    "    return batch\n",
    "\n",
    "predicted_test_dataset = test_dataset.map(generate_predictions, batched=True, batch_size=128)\n"
   ]
  },
  {
   "cell_type": "code",
   "execution_count": null,
   "metadata": {},
   "outputs": [
    {
     "name": "stdout",
     "output_type": "stream",
     "text": [
      "         Model ROUGE-1 r ROUGE-1 p ROUGE-1 f ROUGE-2 r ROUGE-2 p ROUGE-2 f  \\\n",
      "0  MambaLMHead    0.2735    0.0701    0.1118    0.0369    0.0072    0.0122   \n",
      "\n",
      "  ROUGE-L r ROUGE-L p ROUGE-L f  \n",
      "0    0.2456    0.0614    0.0954  \n"
     ]
    }
   ],
   "source": [
    "from rouge_score import rouge_scorer\n",
    "import pandas as pd\n",
    "\n",
    "scorer = rouge_scorer.RougeScorer(['rouge1', 'rouge2', 'rougeL'], use_stemmer=True)\n",
    "\n",
    "rouge1_scores = {'r': [], 'p': [], 'f': []}\n",
    "rouge2_scores = {'r': [], 'p': [], 'f': []}\n",
    "rougeL_scores = {'r': [], 'p': [], 'f': []}\n",
    "\n",
    "for pred, ref in zip(predicted_test_dataset[\"predictions\"], predicted_test_dataset[\"Answer\"]):\n",
    "    scores = scorer.score(ref, pred)\n",
    "    rouge1_scores['r'].append(scores['rouge1'].recall)\n",
    "    rouge1_scores['p'].append(scores['rouge1'].precision)\n",
    "    rouge1_scores['f'].append(scores['rouge1'].fmeasure)\n",
    "    \n",
    "    rouge2_scores['r'].append(scores['rouge2'].recall)\n",
    "    rouge2_scores['p'].append(scores['rouge2'].precision)\n",
    "    rouge2_scores['f'].append(scores['rouge2'].fmeasure)\n",
    "    \n",
    "    rougeL_scores['r'].append(scores['rougeL'].recall)\n",
    "    rougeL_scores['p'].append(scores['rougeL'].precision)\n",
    "    rougeL_scores['f'].append(scores['rougeL'].fmeasure)\n",
    "\n",
    "rouge1_avg = {k: round(sum(v)/len(v), 4) for k, v in rouge1_scores.items()}\n",
    "rouge2_avg = {k: round(sum(v)/len(v), 4) for k, v in rouge2_scores.items()}\n",
    "rougeL_avg = {k: round(sum(v)/len(v), 4) for k, v in rougeL_scores.items()}\n",
    "\n",
    "data = {\n",
    "    \"Model\": [\"MambaLMHead\"],\n",
    "    \"ROUGE-1 r\": [rouge1_avg['r']],\n",
    "    \"ROUGE-1 p\": [rouge1_avg['p']],\n",
    "    \"ROUGE-1 f\": [rouge1_avg['f']],\n",
    "    \"ROUGE-2 r\": [rouge2_avg['r']],\n",
    "    \"ROUGE-2 p\": [rouge2_avg['p']],\n",
    "    \"ROUGE-2 f\": [rouge2_avg['f']],\n",
    "    \"ROUGE-L r\": [rougeL_avg['r']],\n",
    "    \"ROUGE-L p\": [rougeL_avg['p']],\n",
    "    \"ROUGE-L f\": [rougeL_avg['f']]\n",
    "}\n",
    "\n",
    "df = pd.DataFrame(data)\n",
    "\n",
    "print(df)\n",
    "\n",
    "df.to_csv(\"/scratch/vetgpt/vetgpt-rlp/mamba/mamba_ssm/rouge_scores.csv\", index=False, float_format=\"%.4f\")"
   ]
  }
 ],
 "metadata": {
  "kernelspec": {
   "display_name": ".venv",
   "language": "python",
   "name": "python3"
  },
  "language_info": {
   "codemirror_mode": {
    "name": "ipython",
    "version": 3
   },
   "file_extension": ".py",
   "mimetype": "text/x-python",
   "name": "python",
   "nbconvert_exporter": "python",
   "pygments_lexer": "ipython3",
   "version": "3.10.12"
  }
 },
 "nbformat": 4,
 "nbformat_minor": 2
}
